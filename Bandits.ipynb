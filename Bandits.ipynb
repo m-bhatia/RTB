{
 "cells": [
  {
   "cell_type": "code",
   "execution_count": 9,
   "id": "712a4074",
   "metadata": {},
   "outputs": [],
   "source": [
    "import numpy as np"
   ]
  },
  {
   "cell_type": "code",
   "execution_count": 10,
   "id": "21f1bc12",
   "metadata": {},
   "outputs": [],
   "source": [
    "class BaseEpsilonGreedy:\n",
    "    def __init__(self, num_arms, epsilon):\n",
    "        self.num_arms = num_arms\n",
    "        self.epsilon = epsilon\n",
    "        self.arm_counts = np.zeros(num_arms)\n",
    "\n",
    "    def select_arm(self):\n",
    "        if np.random.rand() < self.epsilon:\n",
    "            return np.random.choice(self.num_arms)\n",
    "        else:\n",
    "            return np.argmax(self._get_values())\n",
    "\n",
    "    def decay_epsilon(self, decay_rate):\n",
    "        self.epsilon *= decay_rate\n",
    "\n",
    "    def _get_values(self):\n",
    "        raise NotImplementedError\n",
    "\n",
    "    def update(self, chosen_arm, reward):\n",
    "        self.arm_counts[chosen_arm] += 1\n",
    "        count = self.arm_counts[chosen_arm]\n",
    "        value = self._get_arm_value(chosen_arm)\n",
    "        self._update_arm_value(chosen_arm, ((count - 1) / count) * value + (1 / count) * reward)\n",
    "\n",
    "    def _get_arm_value(self, chosen_arm):\n",
    "        raise NotImplementedError\n",
    "\n",
    "    def _update_arm_value(self, chosen_arm, value):\n",
    "        raise NotImplementedError"
   ]
  },
  {
   "cell_type": "code",
   "execution_count": 11,
   "id": "c776be04",
   "metadata": {},
   "outputs": [],
   "source": [
    "class EpsilonGreedy(BaseEpsilonGreedy):\n",
    "    def __init__(self, num_arms, epsilon):\n",
    "        super().__init__(num_arms, epsilon)\n",
    "        self.arm_values = np.zeros(num_arms)\n",
    "\n",
    "    def _get_values(self):\n",
    "        return self.arm_values\n",
    "\n",
    "    def _get_arm_value(self, chosen_arm):\n",
    "        return self.arm_values[chosen_arm]\n",
    "\n",
    "    def _update_arm_value(self, chosen_arm, value):\n",
    "        self.arm_values[chosen_arm] = value"
   ]
  },
  {
   "cell_type": "code",
   "execution_count": 12,
   "id": "a2727d30",
   "metadata": {},
   "outputs": [],
   "source": [
    "class ContextualEpsilonGreedy(BaseEpsilonGreedy):\n",
    "    def __init__(self, num_arms, num_features, epsilon):\n",
    "        super().__init__(num_arms, epsilon)\n",
    "        self.num_features = num_features\n",
    "        self.arm_values = np.zeros((num_arms, num_features))\n",
    "\n",
    "    def _get_values(self, state):\n",
    "        return np.dot(self.arm_values, state)\n",
    "\n",
    "    def select_arm(self, state):\n",
    "        self.state = state  # store the current state\n",
    "        return super().select_arm()\n",
    "\n",
    "    def _get_arm_value(self, chosen_arm):\n",
    "        return self.arm_values[chosen_arm]\n",
    "\n",
    "    def _update_arm_value(self, chosen_arm, value):\n",
    "        self.arm_values[chosen_arm] = value * self.state\n",
    "\n",
    "    def update(self, chosen_arm, reward):\n",
    "        super().update(chosen_arm, reward)\n",
    "        self.state = None  # clear the stored state"
   ]
  },
  {
   "cell_type": "markdown",
   "id": "573a32d8",
   "metadata": {},
   "source": [
    "if we have previously engaged with this customer before -> contextual. else -> context-free"
   ]
  },
  {
   "cell_type": "code",
   "execution_count": 13,
   "id": "b5b2d445",
   "metadata": {},
   "outputs": [
    {
     "ename": "SyntaxError",
     "evalue": "EOL while scanning string literal (1721270393.py, line 1)",
     "output_type": "error",
     "traceback": [
      "\u001b[0;36m  File \u001b[0;32m\"/var/folders/6z/l4j3mqhj3dn5zs8p568yg9hr0000gn/T/ipykernel_66084/1721270393.py\"\u001b[0;36m, line \u001b[0;32m1\u001b[0m\n\u001b[0;31m    def calculate_reward(result):\"\u001b[0m\n\u001b[0m                                  ^\u001b[0m\n\u001b[0;31mSyntaxError\u001b[0m\u001b[0;31m:\u001b[0m EOL while scanning string literal\n"
     ]
    }
   ],
   "source": [
    "def calculate_reward(result):\n",
    "  "
   ]
  },
  {
   "cell_type": "code",
   "execution_count": null,
   "id": "01c7a8aa",
   "metadata": {},
   "outputs": [],
   "source": [
    "def previously_engaged(state):\n",
    "  "
   ]
  },
  {
   "cell_type": "code",
   "execution_count": null,
   "id": "ecd3ce95",
   "metadata": {},
   "outputs": [],
   "source": []
  },
  {
   "cell_type": "code",
   "execution_count": null,
   "id": "c546260d",
   "metadata": {},
   "outputs": [],
   "source": [
    "# Initialization\n",
    "num_features = len(state)  # assuming state is a numpy array or list\n",
    "contextual_bandit = ContextualEpsilonGreedy(num_arms=10, num_features=num_features, epsilon=1.0)\n",
    "noncontextual_bandit = EpsilonGreedy(num_arms=10, epsilon=1.0)\n",
    "\n",
    "# Initialize dictionaries to store rewards, clicks and spend for each bandit\n",
    "data = {\"contextual\": {\"rewards\": [], \"clicks\": [], \"spend\": []},\n",
    "        \"noncontextual\": {\"rewards\": [], \"clicks\": [], \"spend\": []}}\n",
    "\n",
    "# Loop over ad opportunities\n",
    "for opportunity in ad_opportunities:\n",
    "    # Get the current state (user, ad, market information, etc.)\n",
    "    state = opportunity.state\n",
    "\n",
    "    # Determine if we have previously engaged with this customer\n",
    "    if previously_engaged(state):\n",
    "        bandit = contextual_bandit\n",
    "        bandit_type = \"contextual\"\n",
    "    else:\n",
    "        bandit = noncontextual_bandit\n",
    "        bandit_type = \"noncontextual\"\n",
    "\n",
    "    # Let the bandit choose an arm (bid price range)\n",
    "    arm = bandit.select_arm() if bandit_type == \"noncontextual\" else bandit.select_arm(state)\n",
    "\n",
    "    # Submit the bid and get the result\n",
    "    result = submit_bid(state, arm)\n",
    "\n",
    "    # Calculate the reward\n",
    "    reward = calculate_reward(result)\n",
    "\n",
    "    # Update the bandit\n",
    "    if bandit_type == \"contextual\":\n",
    "        bandit.update(arm, reward, state)\n",
    "    else:\n",
    "        bandit.update(arm, reward)\n",
    "\n",
    "    # Store the results for analysis\n",
    "    data[bandit_type][\"rewards\"].append(reward)\n",
    "    data[bandit_type][\"clicks\"].append(result.click)\n",
    "    data[bandit_type][\"spend\"].append(result.cost)\n",
    "\n",
    "# Analyze the results\n",
    "for bandit_type, results in data.items():\n",
    "    print(f\"Results for {bandit_type} bandit:\")\n",
    "    analyze_results(results[\"rewards\"], results[\"clicks\"], results[\"spend\"])\n"
   ]
  }
 ],
 "metadata": {
  "kernelspec": {
   "display_name": "Python 3 (ipykernel)",
   "language": "python",
   "name": "python3"
  },
  "language_info": {
   "codemirror_mode": {
    "name": "ipython",
    "version": 3
   },
   "file_extension": ".py",
   "mimetype": "text/x-python",
   "name": "python",
   "nbconvert_exporter": "python",
   "pygments_lexer": "ipython3",
   "version": "3.9.7"
  }
 },
 "nbformat": 4,
 "nbformat_minor": 5
}
